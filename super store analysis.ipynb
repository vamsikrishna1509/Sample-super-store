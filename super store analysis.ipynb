{
 "cells": [
  {
   "cell_type": "code",
   "execution_count": 66,
   "metadata": {},
   "outputs": [],
   "source": [
    "import pandas as pd\n",
    "import numpy as np\n",
    "import matplotlib.pyplot as plt\n",
    "import seaborn as sns"
   ]
  },
  {
   "cell_type": "code",
   "execution_count": null,
   "metadata": {},
   "outputs": [],
   "source": [
    "df = pd.read_csv('SampleSuperstore.csv')\n",
    "df.head()"
   ]
  },
  {
   "cell_type": "code",
   "execution_count": null,
   "metadata": {},
   "outputs": [],
   "source": [
    "df.tail()"
   ]
  },
  {
   "cell_type": "code",
   "execution_count": null,
   "metadata": {},
   "outputs": [],
   "source": [
    "df.dtypes"
   ]
  },
  {
   "cell_type": "code",
   "execution_count": null,
   "metadata": {},
   "outputs": [],
   "source": [
    "df.info()"
   ]
  },
  {
   "cell_type": "code",
   "execution_count": null,
   "metadata": {},
   "outputs": [],
   "source": [
    "df.describe"
   ]
  },
  {
   "cell_type": "code",
   "execution_count": null,
   "metadata": {},
   "outputs": [],
   "source": [
    "df.shape"
   ]
  },
  {
   "attachments": {},
   "cell_type": "markdown",
   "metadata": {},
   "source": [
    "1.Overall Performance:"
   ]
  },
  {
   "cell_type": "code",
   "execution_count": null,
   "metadata": {},
   "outputs": [],
   "source": [
    "#Calculate Total Sales and Total Profit:\n",
    "total_sales = df['Sales'].sum()\n",
    "total_profit = df['Profit'].sum()"
   ]
  },
  {
   "cell_type": "code",
   "execution_count": null,
   "metadata": {},
   "outputs": [],
   "source": [
    "#Analyze Sales by Category:\n",
    "sales_by_category = df.groupby('Category')['Sales'].sum()"
   ]
  },
  {
   "cell_type": "code",
   "execution_count": null,
   "metadata": {},
   "outputs": [],
   "source": [
    "#Bar chart for sales by category:\n",
    "plt.figure(figsize=(8, 5))\n",
    "plt.bar(sales_by_category.index, sales_by_category.values)\n",
    "plt.xlabel('Category')\n",
    "plt.ylabel('Sales')\n",
    "plt.title('Sales by Category')\n",
    "plt.show()"
   ]
  },
  {
   "cell_type": "code",
   "execution_count": null,
   "metadata": {},
   "outputs": [],
   "source": [
    "#Pie chart for the distribution of sales by category:\n",
    "plt.figure(figsize=(8, 6))\n",
    "plt.pie(sales_by_category.values, labels=sales_by_category.index, autopct='%1.1f%%')\n",
    "plt.title('Distribution of Sales by Category')\n",
    "plt.show()"
   ]
  },
  {
   "attachments": {},
   "cell_type": "markdown",
   "metadata": {},
   "source": [
    "2.Regional Analysis:"
   ]
  },
  {
   "cell_type": "code",
   "execution_count": null,
   "metadata": {},
   "outputs": [],
   "source": [
    "import seaborn as sns\n",
    "import matplotlib.pyplot as plt"
   ]
  },
  {
   "cell_type": "code",
   "execution_count": null,
   "metadata": {},
   "outputs": [],
   "source": [
    "# Group the dt by region and calculate metrics\n",
    "region_sales = df.groupby('Region')['Sales'].sum()\n",
    "region_profit = df.groupby('Region')['Profit'].sum()\n"
   ]
  },
  {
   "cell_type": "code",
   "execution_count": null,
   "metadata": {},
   "outputs": [],
   "source": [
    "# Create a bar plot for sales by region\n",
    "plt.figure(figsize=(9, 5))\n",
    "sns.barplot(x=region_sales.index, y=region_sales.values)\n",
    "plt.xlabel('Region')\n",
    "plt.ylabel('Sales')\n",
    "plt.title('Sales by Region')\n",
    "plt.show()"
   ]
  },
  {
   "cell_type": "code",
   "execution_count": null,
   "metadata": {},
   "outputs": [],
   "source": [
    "#profit distribution by region\n",
    "import seaborn as sns\n",
    "import matplotlib.pyplot as plt\n",
    "plt.figure(figsize=(8, 5))\n",
    "sns.stripplot(x='Region', y='Profit', data=df, jitter=True)\n",
    "plt.xlabel('Region')\n",
    "plt.ylabel('Profit')\n",
    "plt.title('Profit Distribution by Region')\n",
    "plt.show()\n"
   ]
  },
  {
   "cell_type": "code",
   "execution_count": null,
   "metadata": {},
   "outputs": [],
   "source": [
    "# Create a scatter plot for profit vs. sales by category\n",
    "plt.figure(figsize=(8, 5))\n",
    "sns.scatterplot(x='Sales', y='Profit', hue='Category', data=df)\n",
    "plt.xlabel('Sales')\n",
    "plt.ylabel('Profit')\n",
    "plt.title('Profit vs. Sales by Category')\n",
    "plt.show()"
   ]
  },
  {
   "cell_type": "markdown",
   "metadata": {},
   "source": [
    "3.Discount Analysis"
   ]
  },
  {
   "cell_type": "code",
   "execution_count": null,
   "metadata": {},
   "outputs": [],
   "source": [
    "# Filter the data for discounted and non-discounted sales\n",
    "discounted_sales = df[df['Discount'] > 0]['Sales']\n",
    "non_discounted_sales = df[df['Discount'] == 0]['Sales']"
   ]
  },
  {
   "cell_type": "code",
   "execution_count": null,
   "metadata": {},
   "outputs": [],
   "source": [
    "# Calculate the total revenue for discounted and non-discounted sales\n",
    "discounted_revenue = discounted_sales.sum()\n",
    "non_discounted_revenue = non_discounted_sales.sum()"
   ]
  },
  {
   "cell_type": "code",
   "execution_count": null,
   "metadata": {},
   "outputs": [],
   "source": [
    "# Create a bar plot for revenue with and without discounts\n",
    "plt.figure(figsize=(8, 5))\n",
    "sns.barplot(x=['Discounted Sales', 'Non-Discounted Sales'], y=[discounted_revenue, non_discounted_revenue])\n",
    "plt.xlabel('Discount Type')\n",
    "plt.ylabel('Revenue')\n",
    "plt.title('Revenue with and without Discounts')\n",
    "plt.show()"
   ]
  },
  {
   "cell_type": "code",
   "execution_count": null,
   "metadata": {},
   "outputs": [],
   "source": [
    "# Calculate the total profit for discounted and non-discounted sales\n",
    "discounted_profit = abs(df[df['Discount'] > 0]['Profit'].sum())\n",
    "non_discounted_profit = abs(df[df['Discount'] == 0]['Profit'].sum())\n",
    "\n",
    "# Create a pie chart for profit with and without discounts\n",
    "labels = ['Discounted', 'Non-Discounted']\n",
    "values = [discounted_profit, non_discounted_profit]\n",
    "colors = ['blue', 'orange']\n",
    "\n",
    "plt.figure(figsize=(5, 5))\n",
    "plt.pie(values, labels=labels, colors=colors, autopct='%1.1f%%')\n",
    "plt.title('Profit with and without Discounts')\n",
    "plt.show()"
   ]
  },
  {
   "cell_type": "markdown",
   "metadata": {},
   "source": [
    "4.Product Category Analysis:"
   ]
  },
  {
   "cell_type": "code",
   "execution_count": null,
   "metadata": {},
   "outputs": [],
   "source": [
    "# Group the data by category and calculate metrics\n",
    "category_sales = df.groupby('Category')['Sales'].sum()\n",
    "category_profit = df.groupby('Category')['Profit'].sum()"
   ]
  },
  {
   "cell_type": "code",
   "execution_count": null,
   "metadata": {},
   "outputs": [],
   "source": [
    "# Create a bar plot for sales by category\n",
    "plt.figure(figsize=(8,5))\n",
    "sns.barplot(x=category_sales.index, y=category_sales.values)\n",
    "plt.xlabel('Category')\n",
    "plt.ylabel('Sales')\n",
    "plt.title('Sales by Category')\n",
    "plt.show()"
   ]
  },
  {
   "cell_type": "code",
   "execution_count": null,
   "metadata": {},
   "outputs": [],
   "source": [
    "# Create a bar plot for profit by category\n",
    "plt.figure(figsize=(7, 4))\n",
    "sns.barplot(x=category_profit.index, y=category_profit.values)\n",
    "plt.xlabel('Category')\n",
    "plt.ylabel('Profit')\n",
    "plt.title('Profit by Category')\n",
    "plt.show()"
   ]
  },
  {
   "cell_type": "code",
   "execution_count": null,
   "metadata": {},
   "outputs": [],
   "source": [
    "# Create a scatter plot for profit vs. sales by category\n",
    "plt.figure(figsize=(7, 4))\n",
    "sns.scatterplot(x='Sales', y='Profit', hue='Category', data=df)\n",
    "plt.xlabel('Sales')\n",
    "plt.ylabel('Profit')\n",
    "plt.title('Profit vs. Sales by Category')\n",
    "plt.show()"
   ]
  },
  {
   "cell_type": "markdown",
   "metadata": {},
   "source": [
    "5.Profitability Analysis"
   ]
  },
  {
   "cell_type": "code",
   "execution_count": null,
   "metadata": {},
   "outputs": [],
   "source": [
    "# Calculate key profitability metrics\n",
    "df['Profitability'] = df['Profit'] / df['Sales'] "
   ]
  },
  {
   "cell_type": "code",
   "execution_count": null,
   "metadata": {},
   "outputs": [],
   "source": [
    "# Overall profitability analysis\n",
    "total_profit = df['Profit'].sum()  # Calculate total profit\n",
    "average_profit = df['Profit'].mean()  # Calculate average profit\n",
    "overall_profitability = df['Profitability'].mean()  # Calculate average profitability ratio"
   ]
  },
  {
   "cell_type": "code",
   "execution_count": null,
   "metadata": {},
   "outputs": [],
   "source": [
    "# Print overall profitability metrics\n",
    "print(\"Total Profit: $\", total_profit)\n",
    "print(\"Average Profit: $\", average_profit)\n",
    "print(\"Average Profitability Ratio: \", overall_profitability)"
   ]
  },
  {
   "cell_type": "code",
   "execution_count": null,
   "metadata": {},
   "outputs": [],
   "source": [
    "# Profitability analysis by category\n",
    "category_profit = df.groupby('Category')['Profit'].sum()"
   ]
  },
  {
   "cell_type": "code",
   "execution_count": null,
   "metadata": {},
   "outputs": [],
   "source": [
    "# Boxplot of profit by category with a different color\n",
    "plt.figure(figsize=(7, 4))\n",
    "sns.boxplot(x='Category', y='Profit', data=df)\n",
    "plt.xlabel('Category')\n",
    "plt.ylabel('Profit')\n",
    "plt.title('Profit Distribution by Category')\n",
    "plt.show()"
   ]
  },
  {
   "cell_type": "code",
   "execution_count": null,
   "metadata": {},
   "outputs": [],
   "source": [
    "# Scatter plot of profit vs. sales\n",
    "plt.figure(figsize=(7, 4))\n",
    "sns.scatterplot(x='Sales', y='Profit',hue='Category', data=df)\n",
    "plt.xlabel('Sales')\n",
    "plt.ylabel('Profit')\n",
    "plt.title('Profit vs. Sales')\n",
    "plt.show()"
   ]
  },
  {
   "cell_type": "code",
   "execution_count": null,
   "metadata": {},
   "outputs": [],
   "source": [
    "# Scatter plot of profit vs. discount\n",
    "plt.figure(figsize=(7, 4))\n",
    "sns.scatterplot(x='Discount', y='Profit',hue='Category', data=df)\n",
    "plt.xlabel('Discount')\n",
    "plt.ylabel('Profit')\n",
    "plt.title('Profit vs. Discount')\n",
    "plt.show()"
   ]
  }
 ],
 "metadata": {
  "kernelspec": {
   "display_name": "Python 3",
   "language": "python",
   "name": "python3"
  },
  "language_info": {
   "codemirror_mode": {
    "name": "ipython",
    "version": 3
   },
   "file_extension": ".py",
   "mimetype": "text/x-python",
   "name": "python",
   "nbconvert_exporter": "python",
   "pygments_lexer": "ipython3",
   "version": "3.11.0"
  },
  "orig_nbformat": 4
 },
 "nbformat": 4,
 "nbformat_minor": 2
}
